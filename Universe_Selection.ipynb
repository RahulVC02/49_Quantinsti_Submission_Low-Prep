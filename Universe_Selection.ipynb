{
  "nbformat": 4,
  "nbformat_minor": 0,
  "metadata": {
    "colab": {
      "provenance": []
    },
    "kernelspec": {
      "name": "python3",
      "display_name": "Python 3"
    },
    "language_info": {
      "name": "python"
    }
  },
  "cells": [
    {
      "cell_type": "code",
      "source": [
        "#!pip install yfinance\n"
      ],
      "metadata": {
        "id": "2wAg6RUHuwFy"
      },
      "execution_count": 49,
      "outputs": []
    },
    {
      "cell_type": "code",
      "source": [
        "#conda install -c conda-forge ta-lib"
      ],
      "metadata": {
        "id": "NcQyDantvFYC"
      },
      "execution_count": 9,
      "outputs": []
    },
    {
      "cell_type": "markdown",
      "source": [
        "# Importing Libraries"
      ],
      "metadata": {
        "id": "X7Wb2VYB7mK4"
      }
    },
    {
      "cell_type": "code",
      "source": [
        "import numpy as np\n",
        "import pandas as pd\n",
        "import yfinance as yf\n",
        "\n",
        "import pandas_datareader.data as pdr\n",
        "import matplotlib.pyplot as plt\n",
        "import seaborn as sns\n",
        "#import talib as tb\n",
        "\n",
        "import datetime"
      ],
      "metadata": {
        "id": "Im9n3a297lWC"
      },
      "execution_count": 44,
      "outputs": []
    },
    {
      "cell_type": "markdown",
      "source": [
        "# Defining the helper functions"
      ],
      "metadata": {
        "id": "HTno4ihE7pcs"
      }
    },
    {
      "cell_type": "code",
      "execution_count": 50,
      "metadata": {
        "id": "bl-f4MqWgVEk"
      },
      "outputs": [],
      "source": [
        "\n",
        "\n",
        "rankings={}\n",
        "\n",
        "def find_avg_atr(stock_prices,stock_name):\n",
        "\n",
        "  n = len(stock_prices)\n",
        "  s = 0\n",
        "\n",
        "  for i in range(n):\n",
        "    s+=atr(stock_prices,i)\n",
        "  \n",
        "  rankings[stock_name]= s/n\n",
        "\n",
        "\n",
        "def atr(data,index):\n",
        "  \n",
        "  a = data['High'][index]-data['Low'][index]\n",
        "  l = None\n",
        "\n",
        "  if(index==0):\n",
        "    return a\n",
        "  else:\n",
        "    b = abs(data['High'][index]-data['Close'][index-1])\n",
        "    c = abs(data['Low'][index]-data['Close'][index-1])\n",
        "\n",
        "    l = max(b,c)\n",
        "\n",
        "  return max(a,l)\n",
        "\n"
      ]
    },
    {
      "cell_type": "markdown",
      "source": [
        "# The larger set of Tickers to choose from"
      ],
      "metadata": {
        "id": "cY1JxgsT7wgV"
      }
    },
    {
      "cell_type": "code",
      "source": [
        "tickers = ['ADANIPORTS','ASIANPAINT','AXISBANK','BAJAJ-AUTO','BAJFINANCE','BPCL','BHARTIARTL','CIPLA','COALINDIA','DRREDDY','EICHERMOT','GAIL','GRASIM','HDFCBANK','HEROMOTOCO','HDFC','ICICIBANK','INDUSINDBK','INFY','ITC','KOTAKBANK','LT','LUPIN','M&M','MARUTI','NTPC','ONGC','POWERGRID','RELIANCE','SBIN','SUNPHARMA','TATAMOTORS','TATASTEEL','TECHM','UPL','ULTRACEMCO','VEDL','WIPRO','YESBANK','ZEEL','BAJAJFINSV','BHEL','CDSL','DISHTV','GLENMARK','GODREJCP','HCLTECH','HDFCLIFE','HINDALCO','HINDPETRO']\n",
        "\n",
        "for i in range(len(tickers)):\n",
        "  tickers[i] = tickers[i]+\".NS\"\n",
        "\n",
        "print(tickers)\n",
        "\n",
        "\n"
      ],
      "metadata": {
        "colab": {
          "base_uri": "https://localhost:8080/"
        },
        "id": "TLS0-26j7HDG",
        "outputId": "e9ca2257-5f5d-4c09-87fb-4ceeec8b63b6"
      },
      "execution_count": 51,
      "outputs": [
        {
          "output_type": "stream",
          "name": "stdout",
          "text": [
            "['ADANIPORTS.NS', 'ASIANPAINT.NS', 'AXISBANK.NS', 'BAJAJ-AUTO.NS', 'BAJFINANCE.NS', 'BPCL.NS', 'BHARTIARTL.NS', 'CIPLA.NS', 'COALINDIA.NS', 'DRREDDY.NS', 'EICHERMOT.NS', 'GAIL.NS', 'GRASIM.NS', 'HDFCBANK.NS', 'HEROMOTOCO.NS', 'HDFC.NS', 'ICICIBANK.NS', 'INDUSINDBK.NS', 'INFY.NS', 'ITC.NS', 'KOTAKBANK.NS', 'LT.NS', 'LUPIN.NS', 'M&M.NS', 'MARUTI.NS', 'NTPC.NS', 'ONGC.NS', 'POWERGRID.NS', 'RELIANCE.NS', 'SBIN.NS', 'SUNPHARMA.NS', 'TATAMOTORS.NS', 'TATASTEEL.NS', 'TECHM.NS', 'UPL.NS', 'ULTRACEMCO.NS', 'VEDL.NS', 'WIPRO.NS', 'YESBANK.NS', 'ZEEL.NS', 'BAJAJFINSV.NS', 'BHEL.NS', 'CDSL.NS', 'DISHTV.NS', 'GLENMARK.NS', 'GODREJCP.NS', 'HCLTECH.NS', 'HDFCLIFE.NS', 'HINDALCO.NS', 'HINDPETRO.NS']\n"
          ]
        }
      ]
    },
    {
      "cell_type": "markdown",
      "source": [
        "# Get Rankings for each ticker"
      ],
      "metadata": {
        "id": "NQslMPJM76na"
      }
    },
    {
      "cell_type": "code",
      "source": [
        "start_date = datetime.datetime(2017,7,1)\n",
        "end_date = datetime.datetime(2018,7,1)\n",
        "\n",
        "\n",
        "for i in range(len(tickers)):#len(tickers)\n",
        "  s_ticker = yf.Ticker(tickers[i])\n",
        "  prices_data = s_ticker.history(start=start_date,end=end_date)\n",
        "  #print(prices_data)\n",
        "  find_avg_atr(prices_data,tickers[i])\n",
        "\n",
        "#print(rankings)\n",
        "\n"
      ],
      "metadata": {
        "colab": {
          "base_uri": "https://localhost:8080/"
        },
        "id": "72H275y17Mhw",
        "outputId": "bc84947e-5aa4-4bea-8513-7f10f37390c0"
      },
      "execution_count": 52,
      "outputs": [
        {
          "output_type": "stream",
          "name": "stdout",
          "text": [
            "{'ADANIPORTS.NS': 10.414160743445821, 'ASIANPAINT.NS': 22.546745182284436, 'AXISBANK.NS': 13.553688127269405, 'BAJAJ-AUTO.NS': 53.45580095343943, 'BAJFINANCE.NS': 49.50621022721804, 'BPCL.NS': 9.796215198516677, 'BHARTIARTL.NS': 11.974717618820925, 'CIPLA.NS': 15.198720701601477, 'COALINDIA.NS': 4.116344740972107, 'DRREDDY.NS': 58.76360735175041, 'EICHERMOT.NS': 61.46526960905813, 'GAIL.NS': 2.6036696276992726, 'GRASIM.NS': 29.635093584162124, 'HDFCBANK.NS': 13.249227085203872, 'HEROMOTOCO.NS': 59.34479441583621, 'HDFC.NS': 29.828587141252587, 'ICICIBANK.NS': 7.648643104095268, 'INDUSINDBK.NS': 33.594297358511305, 'INFY.NS': 9.906663832578385, 'ITC.NS': 4.357085534851844, 'KOTAKBANK.NS': 21.435811455397808, 'LT.NS': 23.818630533424813, 'LUPIN.NS': 22.865609076027678, 'M&M.NS': 15.131734374433146, 'MARUTI.NS': 138.41610604926305, 'NTPC.NS': 2.190365264623009, 'ONGC.NS': 3.2700553284255816, 'POWERGRID.NS': 2.241610140721639, 'RELIANCE.NS': 17.77045959513684, 'SBIN.NS': 7.623990031361742, 'SUNPHARMA.NS': 15.429504175192648, 'TATAMOTORS.NS': 10.389960476672314, 'TATASTEEL.NS': 0.6836089017624057, 'TECHM.NS': 13.26058712065935, 'UPL.NS': 12.613080612856951, 'ULTRACEMCO.NS': 85.05873245877585, 'VEDL.NS': 4.741365777163411, 'WIPRO.NS': 4.439635638197151, 'YESBANK.NS': 9.136482240110853, 'ZEEL.NS': 13.02178511786518, 'BAJAJFINSV.NS': 14.19038318546492, 'BHEL.NS': 2.4602735209852487, 'CDSL.NS': 11.03500981172738, 'DISHTV.NS': 2.5649107118799863, 'GLENMARK.NS': 14.85264568337513, 'GODREJCP.NS': 17.58908424106548, 'HCLTECH.NS': 9.87111666639871, 'HDFCLIFE.NS': 14.975614168784219, 'HINDALCO.NS': 7.561840704727857, 'HINDPETRO.NS': 9.764564041368779}\n"
          ]
        }
      ]
    },
    {
      "cell_type": "markdown",
      "source": [
        "# Get the top 10 tickers as our universe"
      ],
      "metadata": {
        "id": "qSowK_PM8CHt"
      }
    },
    {
      "cell_type": "code",
      "source": [
        "ind=['Volatility ATR']\n",
        "df = pd.DataFrame(rankings,index=ind)\n",
        "df_new = df.T\n",
        "df_new['Volatility ATR']=df_new['Volatility ATR'].astype(float)\n",
        "df_new=df_new.sort_values(by='Volatility ATR',ascending=False)\n",
        "universe = df_new.head(10)\n",
        "print(universe)"
      ],
      "metadata": {
        "colab": {
          "base_uri": "https://localhost:8080/"
        },
        "id": "Abhszrfy7Y8R",
        "outputId": "0d0bd1df-697b-4510-e5c8-43a779ecafd5"
      },
      "execution_count": 53,
      "outputs": [
        {
          "output_type": "stream",
          "name": "stdout",
          "text": [
            "               Volatility ATR\n",
            "MARUTI.NS          138.416106\n",
            "ULTRACEMCO.NS       85.058732\n",
            "EICHERMOT.NS        61.465270\n",
            "HEROMOTOCO.NS       59.344794\n",
            "DRREDDY.NS          58.763607\n",
            "BAJAJ-AUTO.NS       53.455801\n",
            "BAJFINANCE.NS       49.506210\n",
            "INDUSINDBK.NS       33.594297\n",
            "HDFC.NS             29.828587\n",
            "GRASIM.NS           29.635094\n"
          ]
        }
      ]
    },
    {
      "cell_type": "markdown",
      "source": [
        "#This is our list of 10 most volatile stocks as per our average ATR metric."
      ],
      "metadata": {
        "id": "Cr88WSom9vh9"
      }
    }
  ]
}